{
 "metadata": {
  "language_info": {
   "codemirror_mode": {
    "name": "ipython",
    "version": 3
   },
   "file_extension": ".py",
   "mimetype": "text/x-python",
   "name": "python",
   "nbconvert_exporter": "python",
   "pygments_lexer": "ipython3",
   "version": "3.7.12-final"
  },
  "orig_nbformat": 2,
  "kernelspec": {
   "name": "python3",
   "display_name": "Python 3.7.12 64-bit ('libkge': conda)",
   "metadata": {
    "interpreter": {
     "hash": "e41f4a0484c58ef9a24f0282607fbe75b061b504ca892ae0b5a7a5592c3b9b8e"
    }
   }
  }
 },
 "nbformat": 4,
 "nbformat_minor": 2,
 "cells": [
  {
   "cell_type": "code",
   "execution_count": 1,
   "metadata": {},
   "outputs": [],
   "source": [
    "import pandas as pd\n",
    "from pprint import pprint\n",
    "from os import listdir"
   ]
  },
  {
   "cell_type": "code",
   "execution_count": 2,
   "metadata": {},
   "outputs": [
    {
     "output_type": "stream",
     "name": "stdout",
     "text": [
      "combo\n",
      "mono\n",
      "ppi\n",
      "effectcategories\n",
      "all\n",
      "targets\n"
     ]
    }
   ],
   "source": [
    "# Read in files\n",
    "dfs = {}\n",
    "for f in listdir('raw'): \n",
    "    if f.endswith('.csv'):\n",
    "        df = pd.read_csv('raw/' + f)\n",
    "        name = f.split('.')[0].split('-')[-1]\n",
    "        print(name)\n",
    "        dfs[name] = df"
   ]
  },
  {
   "cell_type": "code",
   "execution_count": 3,
   "metadata": {},
   "outputs": [
    {
     "output_type": "execute_result",
     "data": {
      "text/plain": [
       "             STITCH 1      STITCH 2 Polypharmacy Side Effect  \\\n",
       "0        CID000002173  CID000003345                 C0151714   \n",
       "1        CID000002173  CID000003345                 C0035344   \n",
       "2        CID000002173  CID000003345                 C0004144   \n",
       "3        CID000002173  CID000003345                 C0002063   \n",
       "4        CID000002173  CID000003345                 C0004604   \n",
       "...               ...           ...                      ...   \n",
       "4649436  CID000003461  CID000003954                 C0149871   \n",
       "4649437  CID000003461  CID000003954                 C0035410   \n",
       "4649438  CID000003461  CID000003954                 C0043096   \n",
       "4649439  CID000003461  CID000003954                 C0003962   \n",
       "4649440  CID000003461  CID000003954                 C0038999   \n",
       "\n",
       "                   Side Effect Name  \n",
       "0                   hypermagnesemia  \n",
       "1        retinopathy of prematurity  \n",
       "2                       atelectasis  \n",
       "3                         alkalosis  \n",
       "4                         Back Ache  \n",
       "...                             ...  \n",
       "4649436        deep vein thromboses  \n",
       "4649437              rhabdomyolysis  \n",
       "4649438              loss of weight  \n",
       "4649439                     ascites  \n",
       "4649440                     bulging  \n",
       "\n",
       "[4649441 rows x 4 columns]"
      ],
      "text/html": "<div>\n<style scoped>\n    .dataframe tbody tr th:only-of-type {\n        vertical-align: middle;\n    }\n\n    .dataframe tbody tr th {\n        vertical-align: top;\n    }\n\n    .dataframe thead th {\n        text-align: right;\n    }\n</style>\n<table border=\"1\" class=\"dataframe\">\n  <thead>\n    <tr style=\"text-align: right;\">\n      <th></th>\n      <th>STITCH 1</th>\n      <th>STITCH 2</th>\n      <th>Polypharmacy Side Effect</th>\n      <th>Side Effect Name</th>\n    </tr>\n  </thead>\n  <tbody>\n    <tr>\n      <th>0</th>\n      <td>CID000002173</td>\n      <td>CID000003345</td>\n      <td>C0151714</td>\n      <td>hypermagnesemia</td>\n    </tr>\n    <tr>\n      <th>1</th>\n      <td>CID000002173</td>\n      <td>CID000003345</td>\n      <td>C0035344</td>\n      <td>retinopathy of prematurity</td>\n    </tr>\n    <tr>\n      <th>2</th>\n      <td>CID000002173</td>\n      <td>CID000003345</td>\n      <td>C0004144</td>\n      <td>atelectasis</td>\n    </tr>\n    <tr>\n      <th>3</th>\n      <td>CID000002173</td>\n      <td>CID000003345</td>\n      <td>C0002063</td>\n      <td>alkalosis</td>\n    </tr>\n    <tr>\n      <th>4</th>\n      <td>CID000002173</td>\n      <td>CID000003345</td>\n      <td>C0004604</td>\n      <td>Back Ache</td>\n    </tr>\n    <tr>\n      <th>...</th>\n      <td>...</td>\n      <td>...</td>\n      <td>...</td>\n      <td>...</td>\n    </tr>\n    <tr>\n      <th>4649436</th>\n      <td>CID000003461</td>\n      <td>CID000003954</td>\n      <td>C0149871</td>\n      <td>deep vein thromboses</td>\n    </tr>\n    <tr>\n      <th>4649437</th>\n      <td>CID000003461</td>\n      <td>CID000003954</td>\n      <td>C0035410</td>\n      <td>rhabdomyolysis</td>\n    </tr>\n    <tr>\n      <th>4649438</th>\n      <td>CID000003461</td>\n      <td>CID000003954</td>\n      <td>C0043096</td>\n      <td>loss of weight</td>\n    </tr>\n    <tr>\n      <th>4649439</th>\n      <td>CID000003461</td>\n      <td>CID000003954</td>\n      <td>C0003962</td>\n      <td>ascites</td>\n    </tr>\n    <tr>\n      <th>4649440</th>\n      <td>CID000003461</td>\n      <td>CID000003954</td>\n      <td>C0038999</td>\n      <td>bulging</td>\n    </tr>\n  </tbody>\n</table>\n<p>4649441 rows × 4 columns</p>\n</div>"
     },
     "metadata": {},
     "execution_count": 3
    }
   ],
   "source": [
    "dfs['combo']"
   ]
  },
  {
   "cell_type": "code",
   "execution_count": 4,
   "metadata": {},
   "outputs": [
    {
     "output_type": "execute_result",
     "data": {
      "text/plain": [
       "              STITCH Individual Side Effect  \\\n",
       "0       CID003062316               C1096328   \n",
       "1       CID003062316               C0162830   \n",
       "2       CID003062316               C1611725   \n",
       "3       CID003062316               C0541767   \n",
       "4       CID003062316               C0242973   \n",
       "...              ...                    ...   \n",
       "174972  CID005282226               C1096278   \n",
       "174973  CID005282226               C0272412   \n",
       "174974  CID005282226               C0860013   \n",
       "174975  CID005282226               C0853225   \n",
       "174976  CID005282226               C1112371   \n",
       "\n",
       "                                Side Effect Name  \n",
       "0                    central nervous system mass  \n",
       "1                      Photosensitivity reaction  \n",
       "2                   leukaemic infiltration brain  \n",
       "3                 platelet adhesiveness abnormal  \n",
       "4                        Ventricular dysfunction  \n",
       "...                                          ...  \n",
       "174972             anterior chamber inflammation  \n",
       "174973                           splenic abscess  \n",
       "174974             hepatitis b antibody positive  \n",
       "174975  international normalised ratio increased  \n",
       "174976             Anterior chamber pigmentation  \n",
       "\n",
       "[174977 rows x 3 columns]"
      ],
      "text/html": "<div>\n<style scoped>\n    .dataframe tbody tr th:only-of-type {\n        vertical-align: middle;\n    }\n\n    .dataframe tbody tr th {\n        vertical-align: top;\n    }\n\n    .dataframe thead th {\n        text-align: right;\n    }\n</style>\n<table border=\"1\" class=\"dataframe\">\n  <thead>\n    <tr style=\"text-align: right;\">\n      <th></th>\n      <th>STITCH</th>\n      <th>Individual Side Effect</th>\n      <th>Side Effect Name</th>\n    </tr>\n  </thead>\n  <tbody>\n    <tr>\n      <th>0</th>\n      <td>CID003062316</td>\n      <td>C1096328</td>\n      <td>central nervous system mass</td>\n    </tr>\n    <tr>\n      <th>1</th>\n      <td>CID003062316</td>\n      <td>C0162830</td>\n      <td>Photosensitivity reaction</td>\n    </tr>\n    <tr>\n      <th>2</th>\n      <td>CID003062316</td>\n      <td>C1611725</td>\n      <td>leukaemic infiltration brain</td>\n    </tr>\n    <tr>\n      <th>3</th>\n      <td>CID003062316</td>\n      <td>C0541767</td>\n      <td>platelet adhesiveness abnormal</td>\n    </tr>\n    <tr>\n      <th>4</th>\n      <td>CID003062316</td>\n      <td>C0242973</td>\n      <td>Ventricular dysfunction</td>\n    </tr>\n    <tr>\n      <th>...</th>\n      <td>...</td>\n      <td>...</td>\n      <td>...</td>\n    </tr>\n    <tr>\n      <th>174972</th>\n      <td>CID005282226</td>\n      <td>C1096278</td>\n      <td>anterior chamber inflammation</td>\n    </tr>\n    <tr>\n      <th>174973</th>\n      <td>CID005282226</td>\n      <td>C0272412</td>\n      <td>splenic abscess</td>\n    </tr>\n    <tr>\n      <th>174974</th>\n      <td>CID005282226</td>\n      <td>C0860013</td>\n      <td>hepatitis b antibody positive</td>\n    </tr>\n    <tr>\n      <th>174975</th>\n      <td>CID005282226</td>\n      <td>C0853225</td>\n      <td>international normalised ratio increased</td>\n    </tr>\n    <tr>\n      <th>174976</th>\n      <td>CID005282226</td>\n      <td>C1112371</td>\n      <td>Anterior chamber pigmentation</td>\n    </tr>\n  </tbody>\n</table>\n<p>174977 rows × 3 columns</p>\n</div>"
     },
     "metadata": {},
     "execution_count": 4
    }
   ],
   "source": [
    "dfs['mono']"
   ]
  },
  {
   "cell_type": "code",
   "execution_count": 5,
   "metadata": {},
   "outputs": [
    {
     "output_type": "execute_result",
     "data": {
      "text/plain": [
       "        Gene 1  Gene 2\n",
       "0       114787  375519\n",
       "1       114787  285613\n",
       "2       114787    7448\n",
       "3       114787    4914\n",
       "4       114787   51343\n",
       "...        ...     ...\n",
       "715607    5634    5636\n",
       "715608    5635    5636\n",
       "715609    5635    5631\n",
       "715610    5636    5631\n",
       "715611    8480    8487\n",
       "\n",
       "[715612 rows x 2 columns]"
      ],
      "text/html": "<div>\n<style scoped>\n    .dataframe tbody tr th:only-of-type {\n        vertical-align: middle;\n    }\n\n    .dataframe tbody tr th {\n        vertical-align: top;\n    }\n\n    .dataframe thead th {\n        text-align: right;\n    }\n</style>\n<table border=\"1\" class=\"dataframe\">\n  <thead>\n    <tr style=\"text-align: right;\">\n      <th></th>\n      <th>Gene 1</th>\n      <th>Gene 2</th>\n    </tr>\n  </thead>\n  <tbody>\n    <tr>\n      <th>0</th>\n      <td>114787</td>\n      <td>375519</td>\n    </tr>\n    <tr>\n      <th>1</th>\n      <td>114787</td>\n      <td>285613</td>\n    </tr>\n    <tr>\n      <th>2</th>\n      <td>114787</td>\n      <td>7448</td>\n    </tr>\n    <tr>\n      <th>3</th>\n      <td>114787</td>\n      <td>4914</td>\n    </tr>\n    <tr>\n      <th>4</th>\n      <td>114787</td>\n      <td>51343</td>\n    </tr>\n    <tr>\n      <th>...</th>\n      <td>...</td>\n      <td>...</td>\n    </tr>\n    <tr>\n      <th>715607</th>\n      <td>5634</td>\n      <td>5636</td>\n    </tr>\n    <tr>\n      <th>715608</th>\n      <td>5635</td>\n      <td>5636</td>\n    </tr>\n    <tr>\n      <th>715609</th>\n      <td>5635</td>\n      <td>5631</td>\n    </tr>\n    <tr>\n      <th>715610</th>\n      <td>5636</td>\n      <td>5631</td>\n    </tr>\n    <tr>\n      <th>715611</th>\n      <td>8480</td>\n      <td>8487</td>\n    </tr>\n  </tbody>\n</table>\n<p>715612 rows × 2 columns</p>\n</div>"
     },
     "metadata": {},
     "execution_count": 5
    }
   ],
   "source": [
    "\n",
    "dfs['ppi']"
   ]
  },
  {
   "cell_type": "code",
   "execution_count": 6,
   "metadata": {},
   "outputs": [
    {
     "output_type": "execute_result",
     "data": {
      "text/plain": [
       "    Side Effect          Side Effect Name  \\\n",
       "0      C0017152      gastric inflammation   \n",
       "1      C0027858                   neuroma   \n",
       "2      C0041466                   Typhoid   \n",
       "3      C0032807  Post thrombotic syndrome   \n",
       "4      C0033860                 psoriasis   \n",
       "..          ...                       ...   \n",
       "556    C0001816                   agnosia   \n",
       "557    C0302592   carcinoma of the cervix   \n",
       "558    C0270629          epidural abscess   \n",
       "559    C0038220        status epilepticus   \n",
       "560    C0042996                  vulvitis   \n",
       "\n",
       "                               Disease Class  \n",
       "0            gastrointestinal system disease  \n",
       "1                            benign neoplasm  \n",
       "2               bacterial infectious disease  \n",
       "3              cardiovascular system disease  \n",
       "4               integumentary system disease  \n",
       "..                                       ...  \n",
       "556  developmental disorder of mental health  \n",
       "557                                   cancer  \n",
       "558                   nervous system disease  \n",
       "559                   nervous system disease  \n",
       "560              reproductive system disease  \n",
       "\n",
       "[561 rows x 3 columns]"
      ],
      "text/html": "<div>\n<style scoped>\n    .dataframe tbody tr th:only-of-type {\n        vertical-align: middle;\n    }\n\n    .dataframe tbody tr th {\n        vertical-align: top;\n    }\n\n    .dataframe thead th {\n        text-align: right;\n    }\n</style>\n<table border=\"1\" class=\"dataframe\">\n  <thead>\n    <tr style=\"text-align: right;\">\n      <th></th>\n      <th>Side Effect</th>\n      <th>Side Effect Name</th>\n      <th>Disease Class</th>\n    </tr>\n  </thead>\n  <tbody>\n    <tr>\n      <th>0</th>\n      <td>C0017152</td>\n      <td>gastric inflammation</td>\n      <td>gastrointestinal system disease</td>\n    </tr>\n    <tr>\n      <th>1</th>\n      <td>C0027858</td>\n      <td>neuroma</td>\n      <td>benign neoplasm</td>\n    </tr>\n    <tr>\n      <th>2</th>\n      <td>C0041466</td>\n      <td>Typhoid</td>\n      <td>bacterial infectious disease</td>\n    </tr>\n    <tr>\n      <th>3</th>\n      <td>C0032807</td>\n      <td>Post thrombotic syndrome</td>\n      <td>cardiovascular system disease</td>\n    </tr>\n    <tr>\n      <th>4</th>\n      <td>C0033860</td>\n      <td>psoriasis</td>\n      <td>integumentary system disease</td>\n    </tr>\n    <tr>\n      <th>...</th>\n      <td>...</td>\n      <td>...</td>\n      <td>...</td>\n    </tr>\n    <tr>\n      <th>556</th>\n      <td>C0001816</td>\n      <td>agnosia</td>\n      <td>developmental disorder of mental health</td>\n    </tr>\n    <tr>\n      <th>557</th>\n      <td>C0302592</td>\n      <td>carcinoma of the cervix</td>\n      <td>cancer</td>\n    </tr>\n    <tr>\n      <th>558</th>\n      <td>C0270629</td>\n      <td>epidural abscess</td>\n      <td>nervous system disease</td>\n    </tr>\n    <tr>\n      <th>559</th>\n      <td>C0038220</td>\n      <td>status epilepticus</td>\n      <td>nervous system disease</td>\n    </tr>\n    <tr>\n      <th>560</th>\n      <td>C0042996</td>\n      <td>vulvitis</td>\n      <td>reproductive system disease</td>\n    </tr>\n  </tbody>\n</table>\n<p>561 rows × 3 columns</p>\n</div>"
     },
     "metadata": {},
     "execution_count": 6
    }
   ],
   "source": [
    "dfs['effectcategories']"
   ]
  },
  {
   "cell_type": "code",
   "execution_count": 7,
   "metadata": {},
   "outputs": [
    {
     "output_type": "execute_result",
     "data": {
      "text/plain": [
       "             STITCH   Gene\n",
       "0      CID000003488   1559\n",
       "1      CID000003488   8647\n",
       "2      CID000077992   3351\n",
       "3      CID000077992   3350\n",
       "4      CID000077992   3352\n",
       "...             ...    ...\n",
       "18685  CID000005152   8484\n",
       "18686  CID000005152  81491\n",
       "18687  CID000005152  83551\n",
       "18688  CID000005152    680\n",
       "18689  CID000005152  11255\n",
       "\n",
       "[18690 rows x 2 columns]"
      ],
      "text/html": "<div>\n<style scoped>\n    .dataframe tbody tr th:only-of-type {\n        vertical-align: middle;\n    }\n\n    .dataframe tbody tr th {\n        vertical-align: top;\n    }\n\n    .dataframe thead th {\n        text-align: right;\n    }\n</style>\n<table border=\"1\" class=\"dataframe\">\n  <thead>\n    <tr style=\"text-align: right;\">\n      <th></th>\n      <th>STITCH</th>\n      <th>Gene</th>\n    </tr>\n  </thead>\n  <tbody>\n    <tr>\n      <th>0</th>\n      <td>CID000003488</td>\n      <td>1559</td>\n    </tr>\n    <tr>\n      <th>1</th>\n      <td>CID000003488</td>\n      <td>8647</td>\n    </tr>\n    <tr>\n      <th>2</th>\n      <td>CID000077992</td>\n      <td>3351</td>\n    </tr>\n    <tr>\n      <th>3</th>\n      <td>CID000077992</td>\n      <td>3350</td>\n    </tr>\n    <tr>\n      <th>4</th>\n      <td>CID000077992</td>\n      <td>3352</td>\n    </tr>\n    <tr>\n      <th>...</th>\n      <td>...</td>\n      <td>...</td>\n    </tr>\n    <tr>\n      <th>18685</th>\n      <td>CID000005152</td>\n      <td>8484</td>\n    </tr>\n    <tr>\n      <th>18686</th>\n      <td>CID000005152</td>\n      <td>81491</td>\n    </tr>\n    <tr>\n      <th>18687</th>\n      <td>CID000005152</td>\n      <td>83551</td>\n    </tr>\n    <tr>\n      <th>18688</th>\n      <td>CID000005152</td>\n      <td>680</td>\n    </tr>\n    <tr>\n      <th>18689</th>\n      <td>CID000005152</td>\n      <td>11255</td>\n    </tr>\n  </tbody>\n</table>\n<p>18690 rows × 2 columns</p>\n</div>"
     },
     "metadata": {},
     "execution_count": 7
    }
   ],
   "source": [
    "dfs['targets']"
   ]
  },
  {
   "source": [
    "# Node counts"
   ],
   "cell_type": "markdown",
   "metadata": {}
  },
  {
   "cell_type": "code",
   "execution_count": 8,
   "metadata": {},
   "outputs": [
    {
     "output_type": "stream",
     "name": "stdout",
     "text": [
      "2135 unique drug IDs found\n"
     ]
    }
   ],
   "source": [
    "# Drug nodes\n",
    "drug_IDs = set()\n",
    "for df in dfs.values():\n",
    "    for col in df.columns:\n",
    "        if 'STITCH' in col:\n",
    "            for ID in df[col].unique():\n",
    "                drug_IDs.add(ID)\n",
    "\n",
    "assert all([ID.startswith('CID') for ID in drug_IDs])\n",
    "print(f'{len(drug_IDs)} unique drug IDs found')"
   ]
  },
  {
   "cell_type": "code",
   "execution_count": 9,
   "metadata": {},
   "outputs": [
    {
     "output_type": "stream",
     "name": "stdout",
     "text": [
      "19122 unique protein IDs found\n"
     ]
    }
   ],
   "source": [
    "# Protein nodes\n",
    "prot_IDs = set()\n",
    "for df in dfs.values():\n",
    "    for col in df.columns:\n",
    "        if 'Gene' in col:\n",
    "            for ID in df[col].unique():\n",
    "                prot_IDs.add(ID)\n",
    "\n",
    "assert [int(ID) for ID in prot_IDs] # Test they can be converted to int\n",
    "print(f'{len(prot_IDs)} unique protein IDs found')     \n"
   ]
  },
  {
   "cell_type": "code",
   "execution_count": 10,
   "metadata": {},
   "outputs": [
    {
     "output_type": "stream",
     "name": "stdout",
     "text": [
      "11501 unique side effect IDs found\n"
     ]
    }
   ],
   "source": [
    "# Side effect nodes\n",
    "side_IDs = set()\n",
    "for df in dfs.values():\n",
    "    if 'Side Effect Name' in df.columns:\n",
    "        df = df.drop(columns=['Side Effect Name'])\n",
    "    for col in df.columns:\n",
    "        if 'Side Effect' in col:\n",
    "            for ID in df[col].unique():\n",
    "                side_IDs.add(ID)\n",
    "\n",
    "assert all([ID.startswith('C') for ID in side_IDs])\n",
    "print(f'{len(side_IDs)} unique side effect IDs found')  "
   ]
  },
  {
   "source": [
    "# Targets vs Targets-all CSV file overlap"
   ],
   "cell_type": "markdown",
   "metadata": {}
  },
  {
   "cell_type": "code",
   "execution_count": 11,
   "metadata": {},
   "outputs": [
    {
     "output_type": "stream",
     "name": "stdout",
     "text": [
      "'targets' only contains tuples that are contained in 'targets-all'\n"
     ]
    }
   ],
   "source": [
    "# Check for overlap by merging dfs\n",
    "union_merged = dfs['all'].merge(dfs['targets'], how='outer', on=['STITCH', 'Gene'])\n",
    "\n",
    "if len(union_merged) > len(dfs['all']):\n",
    "    print('\\'targets\\' contains tuples not contained in \\'targets-all\\'')\n",
    "else:\n",
    "    print('\\'targets\\' only contains tuples that are contained in \\'targets-all\\'')"
   ]
  },
  {
   "cell_type": "code",
   "execution_count": 12,
   "metadata": {},
   "outputs": [],
   "source": [
    "# Double checking - cell should run through with no output. Takes a while so only run if necessary.\n",
    "run = False\n",
    "if run:\n",
    "    existing = [[row.STITCH, row.Gene] for i, row in dfs['all'].iterrows()]\n",
    "    for i, row in dfs['targets'].iterrows():\n",
    "        to_check = [row.STITCH, row.Gene]\n",
    "        if to_check not in existing:\n",
    "            print(to_check)\n",
    "            break"
   ]
  }
 ]
}